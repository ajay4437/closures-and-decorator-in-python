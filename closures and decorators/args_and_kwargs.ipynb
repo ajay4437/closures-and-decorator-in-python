{
 "cells": [
  {
   "cell_type": "code",
   "execution_count": 1,
   "id": "3172b3fb",
   "metadata": {},
   "outputs": [
    {
     "name": "stdout",
     "output_type": "stream",
     "text": [
      "ajay nikki anu\n"
     ]
    }
   ],
   "source": [
    "def func(a,b,c):\n",
    "    print(a,b,c)\n",
    "func('ajay', 'nikki', 'anu')"
   ]
  },
  {
   "cell_type": "code",
   "execution_count": 4,
   "id": "81a4a0db",
   "metadata": {},
   "outputs": [
    {
     "ename": "TypeError",
     "evalue": "func() takes 3 positional arguments but 4 were given",
     "output_type": "error",
     "traceback": [
      "\u001b[1;31m---------------------------------------------------------------------------\u001b[0m",
      "\u001b[1;31mTypeError\u001b[0m                                 Traceback (most recent call last)",
      "\u001b[1;32mC:\\Users\\KONGAR~1\\AppData\\Local\\Temp/ipykernel_16132/292462763.py\u001b[0m in \u001b[0;36m<module>\u001b[1;34m\u001b[0m\n\u001b[0;32m      1\u001b[0m \u001b[1;32mdef\u001b[0m \u001b[0mfunc\u001b[0m\u001b[1;33m(\u001b[0m\u001b[0ma\u001b[0m\u001b[1;33m,\u001b[0m\u001b[0mb\u001b[0m\u001b[1;33m,\u001b[0m\u001b[0mc\u001b[0m\u001b[1;33m)\u001b[0m\u001b[1;33m:\u001b[0m\u001b[1;31m# no parameter for extra item\u001b[0m\u001b[1;33m\u001b[0m\u001b[1;33m\u001b[0m\u001b[0m\n\u001b[0;32m      2\u001b[0m     \u001b[0mprint\u001b[0m\u001b[1;33m(\u001b[0m\u001b[0ma\u001b[0m\u001b[1;33m,\u001b[0m\u001b[0mb\u001b[0m\u001b[1;33m,\u001b[0m\u001b[0mc\u001b[0m\u001b[1;33m,\u001b[0m\u001b[0md\u001b[0m\u001b[1;33m)\u001b[0m\u001b[1;33m\u001b[0m\u001b[1;33m\u001b[0m\u001b[0m\n\u001b[1;32m----> 3\u001b[1;33m \u001b[0mfunc\u001b[0m\u001b[1;33m(\u001b[0m\u001b[1;34m'ajay'\u001b[0m\u001b[1;33m,\u001b[0m \u001b[1;34m'nikki'\u001b[0m\u001b[1;33m,\u001b[0m \u001b[1;34m'anu'\u001b[0m\u001b[1;33m,\u001b[0m \u001b[1;34m'pandu'\u001b[0m\u001b[1;33m)\u001b[0m \u001b[1;31m#adding extra item\u001b[0m\u001b[1;33m\u001b[0m\u001b[1;33m\u001b[0m\u001b[0m\n\u001b[0m",
      "\u001b[1;31mTypeError\u001b[0m: func() takes 3 positional arguments but 4 were given"
     ]
    }
   ],
   "source": [
    "def func(a,b,c):# no parameter for extra item\n",
    "    print(a,b,c,d)\n",
    "func('ajay', 'nikki', 'anu', 'pandu') #adding extra item"
   ]
  },
  {
   "cell_type": "code",
   "execution_count": 3,
   "id": "553be7e9",
   "metadata": {},
   "outputs": [
    {
     "name": "stdout",
     "output_type": "stream",
     "text": [
      "ajay nikki anu pandu\n"
     ]
    }
   ],
   "source": [
    "def func(a,b,c,d):\n",
    "    print(a,b,c,d)\n",
    "func('ajay', 'nikki', 'anu', 'pandu')"
   ]
  },
  {
   "cell_type": "code",
   "execution_count": 7,
   "id": "d257e62c",
   "metadata": {},
   "outputs": [
    {
     "name": "stdout",
     "output_type": "stream",
     "text": [
      "('ajay', 'nkki', 'anu', 'pandu')\n",
      "<class 'tuple'>\n"
     ]
    }
   ],
   "source": [
    "def func_args(*args):\n",
    "    print(args)\n",
    "    print(type(args))\n",
    "names=['ajay', 'nkki', 'anu', 'pandu']\n",
    "func_args(*names)"
   ]
  },
  {
   "cell_type": "markdown",
   "id": "3fb953c6",
   "metadata": {},
   "source": [
    "#### if there are 'n' number of arguments, *args will pass all arguments into the function"
   ]
  },
  {
   "cell_type": "code",
   "execution_count": 22,
   "id": "92fd26c8",
   "metadata": {},
   "outputs": [
    {
     "name": "stdout",
     "output_type": "stream",
     "text": [
      "My family members are: \n",
      "ajay\n",
      "nkki\n",
      "anu\n",
      "pandu\n",
      "ajay is studying Btech\n",
      "nikki is studying inter\n",
      "anu is studying tenth\n",
      "pandu is studying inter\n"
     ]
    }
   ],
   "source": [
    "def func_args(normal_arg, *args, **kwargs): #ORDER is so IMPORTANT\n",
    "    print(normal_arg) \n",
    "    for item in args:\n",
    "        print(item)\n",
    "    for key, value in kwargs.items():\n",
    "        print(f\"{key} is studying {value}\")\n",
    "       \n",
    "names=['ajay', 'nkki', 'anu', 'pandu']\n",
    "normal_arg=\"My family members are: \"\n",
    "kw = {'ajay':'Btech', 'nikki':'inter', 'anu':'tenth', 'pandu':'inter' }\n",
    "\n",
    "func_args(normal_arg, *names, **kw)"
   ]
  },
  {
   "cell_type": "code",
   "execution_count": null,
   "id": "dd244a76",
   "metadata": {},
   "outputs": [],
   "source": []
  },
  {
   "cell_type": "code",
   "execution_count": null,
   "id": "9c1c506c",
   "metadata": {},
   "outputs": [],
   "source": []
  }
 ],
 "metadata": {
  "kernelspec": {
   "display_name": "Python 3 (ipykernel)",
   "language": "python",
   "name": "python3"
  },
  "language_info": {
   "codemirror_mode": {
    "name": "ipython",
    "version": 3
   },
   "file_extension": ".py",
   "mimetype": "text/x-python",
   "name": "python",
   "nbconvert_exporter": "python",
   "pygments_lexer": "ipython3",
   "version": "3.9.6"
  }
 },
 "nbformat": 4,
 "nbformat_minor": 5
}
