{
 "cells": [
  {
   "cell_type": "markdown",
   "id": "d901aa9e",
   "metadata": {},
   "source": [
    "### Nested functions:"
   ]
  },
  {
   "cell_type": "code",
   "execution_count": 1,
   "id": "c0544b3e",
   "metadata": {},
   "outputs": [
    {
     "name": "stdout",
     "output_type": "stream",
     "text": [
      "Hello\n"
     ]
    }
   ],
   "source": [
    "def outer_function(text):\n",
    "    def inner_function():\n",
    "        return print(text)\n",
    "    inner_function()\n",
    "outer_function(\"Hello\")\n"
   ]
  },
  {
   "cell_type": "markdown",
   "id": "5f174e0c",
   "metadata": {},
   "source": [
    "the argument text has passed from outer_function to the inner_function, coz we called the inner_function in the outer function."
   ]
  },
  {
   "cell_type": "code",
   "execution_count": 2,
   "id": "0a111b07",
   "metadata": {},
   "outputs": [
    {
     "name": "stdout",
     "output_type": "stream",
     "text": [
      "[1, 2, 3, 4]\n",
      "[1, 2, 3]\n",
      "[1, 2]\n"
     ]
    }
   ],
   "source": [
    "def pop(list):\n",
    "    def last_element(list):\n",
    "        return arr[len(arr)-1]\n",
    "    arr.remove(last_element(list))\n",
    "    return arr\n",
    "arr=[1,2,3,4,5]\n",
    "print(pop(arr))\n",
    "print(pop(arr))\n",
    "print(pop(arr))"
   ]
  },
  {
   "cell_type": "markdown",
   "id": "f1e81cf1",
   "metadata": {},
   "source": [
    "### Closures:\n"
   ]
  },
  {
   "cell_type": "code",
   "execution_count": 3,
   "id": "3dd9efa9",
   "metadata": {},
   "outputs": [
    {
     "ename": "NameError",
     "evalue": "name 'outerfunction' is not defined",
     "output_type": "error",
     "traceback": [
      "\u001b[1;31m---------------------------------------------------------------------------\u001b[0m",
      "\u001b[1;31mNameError\u001b[0m                                 Traceback (most recent call last)",
      "\u001b[1;32mC:\\Users\\KONGAR~1\\AppData\\Local\\Temp/ipykernel_10092/1484518024.py\u001b[0m in \u001b[0;36m<module>\u001b[1;34m\u001b[0m\n\u001b[0;32m      5\u001b[0m \u001b[0ma\u001b[0m\u001b[1;33m=\u001b[0m\u001b[0mouterfunction\u001b[0m\u001b[1;33m(\u001b[0m\u001b[1;34m\"Hello\"\u001b[0m\u001b[1;33m)\u001b[0m\u001b[1;33m\u001b[0m\u001b[1;33m\u001b[0m\u001b[0m\n\u001b[0;32m      6\u001b[0m \u001b[1;32mdel\u001b[0m \u001b[0mouterfunction\u001b[0m \u001b[1;31m# we delet the outer function\u001b[0m\u001b[1;33m\u001b[0m\u001b[1;33m\u001b[0m\u001b[0m\n\u001b[1;32m----> 7\u001b[1;33m \u001b[0mouterfunction\u001b[0m\u001b[1;33m(\u001b[0m\u001b[1;34m\"hello\"\u001b[0m\u001b[1;33m)\u001b[0m \u001b[1;31m# calling the outer function and this line through the ERROR.\u001b[0m\u001b[1;33m\u001b[0m\u001b[1;33m\u001b[0m\u001b[0m\n\u001b[0m\u001b[0;32m      8\u001b[0m \u001b[0ma\u001b[0m\u001b[1;33m(\u001b[0m\u001b[1;33m)\u001b[0m\u001b[1;33m\u001b[0m\u001b[1;33m\u001b[0m\u001b[0m\n",
      "\u001b[1;31mNameError\u001b[0m: name 'outerfunction' is not defined"
     ]
    }
   ],
   "source": [
    "def outerfunction(text):\n",
    "    def innerfunction():\n",
    "        return print(text)\n",
    "    return innerfunction # similar to nested functions but no paranthesis\n",
    "a=outerfunction(\"Hello\")\n",
    "del outerfunction # we delet the outer function\n",
    "outerfunction(\"hello\") # calling the outer function and this line through the ERROR.\n",
    "a()"
   ]
  },
  {
   "cell_type": "code",
   "execution_count": 4,
   "id": "abc2155d",
   "metadata": {},
   "outputs": [
    {
     "name": "stdout",
     "output_type": "stream",
     "text": [
      "Hello\n"
     ]
    }
   ],
   "source": [
    "def outerfunction(text):\n",
    "    def innerfunction():\n",
    "        return print(text)\n",
    "    return innerfunction \n",
    "a = outerfunction(\"Hello\") # variable that contains inner function\n",
    "del outerfunction # we delet the outer function\n",
    "\n",
    "# even after we delet the outer function this still excute, coz befor deleting the outerfunction we created a variable 'a' that\n",
    "# contains the value of the inner function\n",
    "\n",
    "a() # calling of inner function"
   ]
  },
  {
   "cell_type": "markdown",
   "id": "2e431402",
   "metadata": {},
   "source": [
    "#### Note:\n",
    "    That is the closure, before deleting the outer function we created a variable that contains the inner function which is called by the outer function"
   ]
  },
  {
   "cell_type": "code",
   "execution_count": 6,
   "id": "2be72225",
   "metadata": {},
   "outputs": [
    {
     "name": "stdout",
     "output_type": "stream",
     "text": [
      "4\n",
      "9\n"
     ]
    }
   ],
   "source": [
    "def power(exponent):\n",
    "    def powe(base):\n",
    "        return pow(base, exponent) # exponent comes from the outer function\n",
    "    return powe # similar to nested functions but no paranthesis\n",
    "square=power(2) # we define square as a inner function 'powe' \n",
    "print(square(2)) # calling of 'powe' function\n",
    "print(square(3))"
   ]
  }
 ],
 "metadata": {
  "kernelspec": {
   "display_name": "Python 3 (ipykernel)",
   "language": "python",
   "name": "python3"
  },
  "language_info": {
   "codemirror_mode": {
    "name": "ipython",
    "version": 3
   },
   "file_extension": ".py",
   "mimetype": "text/x-python",
   "name": "python",
   "nbconvert_exporter": "python",
   "pygments_lexer": "ipython3",
   "version": "3.9.6"
  }
 },
 "nbformat": 4,
 "nbformat_minor": 5
}
