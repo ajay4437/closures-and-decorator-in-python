{
 "cells": [
  {
   "cell_type": "code",
   "execution_count": 3,
   "id": "55581d3e",
   "metadata": {},
   "outputs": [
    {
     "name": "stdout",
     "output_type": "stream",
     "text": [
      "####################\n",
      "hello\n",
      "$$$$$$$$$$$$$$$$$$$$\n"
     ]
    }
   ],
   "source": [
    "def decorator_func(func):\n",
    "    def xp():\n",
    "        print('#'*20)\n",
    "        func()\n",
    "        print('$'*20)\n",
    "    return xp\n",
    "    \n",
    "\n",
    "def sample():\n",
    "    print(\"hello\")\n",
    "\n",
    "hello=decorator_func(sample)\n",
    "hello()\n"
   ]
  },
  {
   "cell_type": "code",
   "execution_count": 4,
   "id": "ac00cbf3",
   "metadata": {},
   "outputs": [
    {
     "name": "stdout",
     "output_type": "stream",
     "text": [
      "####################\n",
      "hello\n",
      "$$$$$$$$$$$$$$$$$$$$\n"
     ]
    }
   ],
   "source": [
    "def decorator_func(func):\n",
    "    def xp():\n",
    "        print('#'*20)\n",
    "        func()\n",
    "        print('$'*20)\n",
    "    return xp\n",
    "    \n",
    "@decorator_func\n",
    "def sample():\n",
    "    print(\"hello\")\n",
    "\n",
    "#hello=decorator_func(sample)\n",
    "#hello()\n",
    "\n",
    "sample()"
   ]
  },
  {
   "cell_type": "markdown",
   "id": "aadcaba3",
   "metadata": {},
   "source": [
    "#### Note:\n",
    "    Insted of \n",
    "    \n",
    "    hello=dexorator_func(sample) \n",
    "    hello()\n",
    "    \n",
    "    just writing:\n",
    "    @decorator_func\n",
    "    \n",
    "    will do the job"
   ]
  },
  {
   "cell_type": "markdown",
   "id": "c164aa36",
   "metadata": {},
   "source": [
    "### note:\n",
    "    We can use one or more decorators for one function"
   ]
  },
  {
   "cell_type": "code",
   "execution_count": 8,
   "id": "2b14d131",
   "metadata": {},
   "outputs": [
    {
     "name": "stdout",
     "output_type": "stream",
     "text": [
      "xxxxxxxxxxxxxxxxxxxx\n",
      "yyyyyyyyyyyyyyyyyyyy\n",
      "hello\n",
      "yyyyyyyyyyyyyyyyyyyy\n",
      "xxxxxxxxxxxxxxxxxxxx\n"
     ]
    }
   ],
   "source": [
    "def decorator_x(func):\n",
    "    def wraping_func():\n",
    "        print('x'*20)\n",
    "        func()\n",
    "        print('x'*20)\n",
    "    return wraping_func\n",
    "\n",
    "def decorator_y(func):\n",
    "    def wraping_func():\n",
    "        print('y'*20)\n",
    "        func()\n",
    "        print('y'*20)\n",
    "    return wraping_func\n",
    "\n",
    "@decorator_x    \n",
    "@decorator_y\n",
    "def sample():\n",
    "    print(\"hello\")\n",
    "    \n",
    "\n",
    "    \n",
    "sample()"
   ]
  },
  {
   "cell_type": "code",
   "execution_count": 19,
   "id": "f3800cc1",
   "metadata": {},
   "outputs": [
    {
     "name": "stdout",
     "output_type": "stream",
     "text": [
      "Multiply 2 and 2\n",
      "4\n"
     ]
    }
   ],
   "source": [
    "def decorator_multiply(func):\n",
    "    def wraper(x,y):\n",
    "        print('Multiply',x,'and', y)\n",
    "        func(x,y)\n",
    "    return wraper\n",
    "\n",
    "@decorator_multiply\n",
    "def multiply(a,b):\n",
    "    print(a*b)\n",
    "\n",
    "multiply(2,2)"
   ]
  },
  {
   "cell_type": "code",
   "execution_count": 25,
   "id": "4393ac48",
   "metadata": {},
   "outputs": [
    {
     "name": "stdout",
     "output_type": "stream",
     "text": [
      "division is not possible\n"
     ]
    }
   ],
   "source": [
    "def decorator_divide(func):\n",
    "    def wraper(a,b):\n",
    "        if b==0:\n",
    "            print('division is not possible')\n",
    "            return\n",
    "        else:\n",
    "            print('divide',a, 'and', b)\n",
    "        func(a,b)\n",
    "    return wraper\n",
    "\n",
    "@decorator_divide\n",
    "def divide(a,b):\n",
    "    print(a/b)\n",
    "\n",
    "divide(15,0)"
   ]
  },
  {
   "cell_type": "code",
   "execution_count": null,
   "id": "8f6f36cf",
   "metadata": {},
   "outputs": [],
   "source": [
    "def decorator(func):\n",
    "    def wraper(num):\n",
    "        add=0\n",
    "        for i in range(num+1):\n",
    "            add=add+i\n",
    "            \n",
    "        return add\n",
    "            \n",
    "    return wraper\n",
    "\n",
    "@decorator\n",
    "def addition(num):\n",
    "    print(add)\n",
    "    \n",
    "print(addition(10))"
   ]
  },
  {
   "cell_type": "code",
   "execution_count": null,
   "id": "d90dc796",
   "metadata": {},
   "outputs": [],
   "source": [
    "from time import time\n",
    "\n",
    "\n",
    "def timer(func):\n",
    "    def wraper(*args, **kwargs):\n",
    "        start = time()\n",
    "        result = func(*args, **kwargs)\n",
    "        end = time()\n",
    "        print(f\"time taken: {end - start}\")\n",
    "        return result\n",
    "\n",
    "    return wraper\n",
    "\n",
    "\n",
    "@timer\n",
    "def myfunc(num):\n",
    "    sum = 0\n",
    "    for i in range(num + 1):\n",
    "        sum = sum + i\n",
    "    return sum\n",
    "\n",
    "\n",
    "print(myfunc(10))"
   ]
  },
  {
   "cell_type": "code",
   "execution_count": null,
   "id": "469f7bee",
   "metadata": {},
   "outputs": [],
   "source": []
  },
  {
   "cell_type": "code",
   "execution_count": null,
   "id": "c6065d01",
   "metadata": {},
   "outputs": [],
   "source": []
  },
  {
   "cell_type": "code",
   "execution_count": null,
   "id": "993badb7",
   "metadata": {},
   "outputs": [],
   "source": []
  }
 ],
 "metadata": {
  "kernelspec": {
   "display_name": "Python 3 (ipykernel)",
   "language": "python",
   "name": "python3"
  },
  "language_info": {
   "codemirror_mode": {
    "name": "ipython",
    "version": 3
   },
   "file_extension": ".py",
   "mimetype": "text/x-python",
   "name": "python",
   "nbconvert_exporter": "python",
   "pygments_lexer": "ipython3",
   "version": "3.9.6"
  }
 },
 "nbformat": 4,
 "nbformat_minor": 5
}
